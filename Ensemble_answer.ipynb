{
 "cells": [
  {
   "cell_type": "code",
   "execution_count": 7,
   "metadata": {},
   "outputs": [],
   "source": [
    "import os\n",
    "def read_file(path):\n",
    "    with open(path , 'r' , encoding = 'utf-8-sig') as fr:\n",
    "        return fr.readlines()"
   ]
  },
  {
   "cell_type": "code",
   "execution_count": 8,
   "metadata": {},
   "outputs": [],
   "source": [
    "NER_answer_path = \"./upload_answer/NER/NER_answer.txt\"\n",
    "all_answers = read_file(NER_answer_path)"
   ]
  },
  {
   "cell_type": "code",
   "execution_count": 9,
   "metadata": {},
   "outputs": [],
   "source": [
    "\n",
    "output = []\n",
    "for answer in all_answers:\n",
    "\n",
    "    if len(answer.split('\\t'))>1:\n",
    "        PHI = answer.split('\\t')[1]\n",
    "\n",
    "        output.append(answer)\n"
   ]
  },
  {
   "cell_type": "code",
   "execution_count": 10,
   "metadata": {},
   "outputs": [],
   "source": [
    "Search_PHI_answer_path = \"./Search_Phi_Result/FULL/Search_Phi_Full_Result.txt\"\n",
    "all_answers = read_file(Search_PHI_answer_path)"
   ]
  },
  {
   "cell_type": "code",
   "execution_count": 11,
   "metadata": {},
   "outputs": [],
   "source": [
    "for answer in all_answers:\n",
    "\n",
    "    if len(answer.split('\\t'))>1:\n",
    "\n",
    "        output.append(answer)"
   ]
  },
  {
   "cell_type": "code",
   "execution_count": 12,
   "metadata": {},
   "outputs": [],
   "source": [
    "with open('./upload_answer/un_norm/answer.txt','w', encoding='utf-8') as f:\n",
    "    for o in output:\n",
    "        f.write(o)\n",
    "        "
   ]
  }
 ],
 "metadata": {
  "kernelspec": {
   "display_name": "AI_CUP_Github",
   "language": "python",
   "name": "python3"
  },
  "language_info": {
   "codemirror_mode": {
    "name": "ipython",
    "version": 3
   },
   "file_extension": ".py",
   "mimetype": "text/x-python",
   "name": "python",
   "nbconvert_exporter": "python",
   "pygments_lexer": "ipython3",
   "version": "3.8.16"
  }
 },
 "nbformat": 4,
 "nbformat_minor": 2
}
